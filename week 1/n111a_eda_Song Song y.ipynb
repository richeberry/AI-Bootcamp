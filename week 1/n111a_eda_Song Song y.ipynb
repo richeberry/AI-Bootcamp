{
  "nbformat": 4,
  "nbformat_minor": 0,
  "metadata": {
    "colab": {
      "name": "n111a-eda.ipynb의 사본",
      "provenance": [],
      "collapsed_sections": []
    },
    "kernelspec": {
      "display_name": "Python 3",
      "language": "python",
      "name": "python3"
    },
    "language_info": {
      "codemirror_mode": {
        "name": "ipython",
        "version": 3
      },
      "file_extension": ".py",
      "mimetype": "text/x-python",
      "name": "python",
      "nbconvert_exporter": "python",
      "pygments_lexer": "ipython3",
      "version": "3.9.4"
    }
  },
  "cells": [
    {
      "cell_type": "markdown",
      "metadata": {
        "id": "MSnsTgZLKO72"
      },
      "source": [
        "<img src='https://i.imgur.com/RDAD11M.png' width = '200' align = 'right'>\n",
        "\n",
        "## *DATA SCIENCE / SECTION 1 / SPRINT 1 / NOTE 1*\n",
        "\n",
        "---\n",
        "\n",
        "# 📝 Assignment\n",
        "\n"
      ]
    },
    {
      "cell_type": "markdown",
      "metadata": {
        "id": "qoR8E-T2TYPd"
      },
      "source": [
        "## 1.데이터셋 불러오기 연습\n",
        "\n",
        "다음 url에서 엑셀 파일을 불러오세요. (pandas excel)\n",
        "\n",
        "<https://ds-lecture-data.s3.ap-northeast-2.amazonaws.com/stocks/Travel.xlsx>\n",
        "\n",
        "  - 데이터셋 변수의 이름은 `df1`, `df2`로 저장하세요.\n",
        "  - row가 아닌 column에 '매출액', '영업이익' 이 가도록 데이터를 transpose 하세요.\n",
        "  - 이후 아래 링크를 참조하여 첫번째 row를 column name으로 설정하세요.\n",
        "\n",
        "<https://stackoverflow.com/questions/31328861/python-pandas-replacing-header-with-top-row>\n",
        "\n",
        "- 파일은 2개의 시트로 구성되어 있으며 각각 이름은 `008770`, `035250` 입니다.\n",
        "\n"
      ]
    },
    {
      "cell_type": "code",
      "metadata": {
        "id": "wMxnu2SmTS8Z",
        "colab": {
          "base_uri": "https://localhost:8080/",
          "height": 569
        },
        "outputId": "dd1f3e90-02ae-4a08-c02f-ddedc143ba46"
      },
      "source": [
        "\n",
        "import pandas as pd\n",
        "\n",
        "xls = 'https://ds-lecture-data.s3.ap-northeast-2.amazonaws.com/stocks/Travel.xlsx'\n",
        "\n",
        "#xls.sheet_names\n",
        "\n",
        "\n",
        "df1 = pd.read_excel(xls,sheet_name='008770 ')\n",
        "df2 = pd.read_excel(xls,sheet_name='035250')\n",
        "\n",
        "df1.T\n",
        "df2.T"
      ],
      "execution_count": null,
      "outputs": [
        {
          "output_type": "execute_result",
          "data": {
            "text/html": [
              "<div>\n",
              "<style scoped>\n",
              "    .dataframe tbody tr th:only-of-type {\n",
              "        vertical-align: middle;\n",
              "    }\n",
              "\n",
              "    .dataframe tbody tr th {\n",
              "        vertical-align: top;\n",
              "    }\n",
              "\n",
              "    .dataframe thead th {\n",
              "        text-align: right;\n",
              "    }\n",
              "</style>\n",
              "<table border=\"1\" class=\"dataframe\">\n",
              "  <thead>\n",
              "    <tr style=\"text-align: right;\">\n",
              "      <th></th>\n",
              "      <th>0</th>\n",
              "      <th>1</th>\n",
              "      <th>2</th>\n",
              "      <th>3</th>\n",
              "      <th>4</th>\n",
              "      <th>5</th>\n",
              "      <th>6</th>\n",
              "      <th>7</th>\n",
              "      <th>8</th>\n",
              "      <th>9</th>\n",
              "      <th>10</th>\n",
              "      <th>11</th>\n",
              "      <th>12</th>\n",
              "      <th>13</th>\n",
              "      <th>14</th>\n",
              "      <th>15</th>\n",
              "      <th>16</th>\n",
              "      <th>17</th>\n",
              "      <th>18</th>\n",
              "      <th>19</th>\n",
              "      <th>20</th>\n",
              "      <th>21</th>\n",
              "      <th>22</th>\n",
              "      <th>23</th>\n",
              "      <th>24</th>\n",
              "      <th>25</th>\n",
              "      <th>26</th>\n",
              "      <th>27</th>\n",
              "      <th>28</th>\n",
              "      <th>29</th>\n",
              "      <th>30</th>\n",
              "      <th>31</th>\n",
              "    </tr>\n",
              "  </thead>\n",
              "  <tbody>\n",
              "    <tr>\n",
              "      <th>주요재무정보</th>\n",
              "      <td>매출액</td>\n",
              "      <td>영업이익</td>\n",
              "      <td>영업이익(발표기준)</td>\n",
              "      <td>세전계속사업이익</td>\n",
              "      <td>당기순이익</td>\n",
              "      <td>당기순이익(지배)</td>\n",
              "      <td>당기순이익(비지배)</td>\n",
              "      <td>자산총계</td>\n",
              "      <td>부채총계</td>\n",
              "      <td>자본총계</td>\n",
              "      <td>자본총계(지배)</td>\n",
              "      <td>자본총계(비지배)</td>\n",
              "      <td>자본금</td>\n",
              "      <td>영업활동현금흐름</td>\n",
              "      <td>투자활동현금흐름</td>\n",
              "      <td>재무활동현금흐름</td>\n",
              "      <td>CAPEX</td>\n",
              "      <td>FCF</td>\n",
              "      <td>이자발생부채</td>\n",
              "      <td>영업이익률</td>\n",
              "      <td>순이익률</td>\n",
              "      <td>ROE(%)</td>\n",
              "      <td>ROA(%)</td>\n",
              "      <td>부채비율</td>\n",
              "      <td>자본유보율</td>\n",
              "      <td>EPS(원)</td>\n",
              "      <td>PER(배)</td>\n",
              "      <td>BPS(원)</td>\n",
              "      <td>PBR(배)</td>\n",
              "      <td>현금DPS(원)</td>\n",
              "      <td>현금배당수익률</td>\n",
              "      <td>현금배당성향(%)</td>\n",
              "    </tr>\n",
              "    <tr>\n",
              "      <th>2019/09\\n(IFRS연결)</th>\n",
              "      <td>4055</td>\n",
              "      <td>1392</td>\n",
              "      <td>1392</td>\n",
              "      <td>1554</td>\n",
              "      <td>1286</td>\n",
              "      <td>1286</td>\n",
              "      <td>0</td>\n",
              "      <td>41698</td>\n",
              "      <td>4781</td>\n",
              "      <td>36917</td>\n",
              "      <td>36916</td>\n",
              "      <td>NaN</td>\n",
              "      <td>1070</td>\n",
              "      <td>-22</td>\n",
              "      <td>-1260</td>\n",
              "      <td>-4</td>\n",
              "      <td>167</td>\n",
              "      <td>-189</td>\n",
              "      <td>48</td>\n",
              "      <td>34.33</td>\n",
              "      <td>31.72</td>\n",
              "      <td>8.27</td>\n",
              "      <td>7.2</td>\n",
              "      <td>12.95</td>\n",
              "      <td>3513.86</td>\n",
              "      <td>601</td>\n",
              "      <td>21</td>\n",
              "      <td>18209</td>\n",
              "      <td>1.62</td>\n",
              "      <td>0</td>\n",
              "      <td>NaN</td>\n",
              "      <td>0</td>\n",
              "    </tr>\n",
              "    <tr>\n",
              "      <th>2019/12\\n(IFRS연결)</th>\n",
              "      <td>3728</td>\n",
              "      <td>641</td>\n",
              "      <td>641</td>\n",
              "      <td>769</td>\n",
              "      <td>526</td>\n",
              "      <td>526</td>\n",
              "      <td>0</td>\n",
              "      <td>44381</td>\n",
              "      <td>7204</td>\n",
              "      <td>37178</td>\n",
              "      <td>37177</td>\n",
              "      <td>NaN</td>\n",
              "      <td>1070</td>\n",
              "      <td>2067</td>\n",
              "      <td>-2370</td>\n",
              "      <td>-4</td>\n",
              "      <td>383</td>\n",
              "      <td>1684</td>\n",
              "      <td>680</td>\n",
              "      <td>17.18</td>\n",
              "      <td>14.11</td>\n",
              "      <td>9.16</td>\n",
              "      <td>7.72</td>\n",
              "      <td>19.38</td>\n",
              "      <td>3538.24</td>\n",
              "      <td>246</td>\n",
              "      <td>18.92</td>\n",
              "      <td>18337</td>\n",
              "      <td>1.61</td>\n",
              "      <td>900</td>\n",
              "      <td>NaN</td>\n",
              "      <td>346.75</td>\n",
              "    </tr>\n",
              "    <tr>\n",
              "      <th>2020/03\\n(IFRS연결)</th>\n",
              "      <td>2360</td>\n",
              "      <td>-1868</td>\n",
              "      <td>-1868</td>\n",
              "      <td>-2204</td>\n",
              "      <td>-1561</td>\n",
              "      <td>-1561</td>\n",
              "      <td>0</td>\n",
              "      <td>43702</td>\n",
              "      <td>9945</td>\n",
              "      <td>33757</td>\n",
              "      <td>33757</td>\n",
              "      <td>NaN</td>\n",
              "      <td>1070</td>\n",
              "      <td>-684</td>\n",
              "      <td>909</td>\n",
              "      <td>-4</td>\n",
              "      <td>124</td>\n",
              "      <td>-808</td>\n",
              "      <td>651</td>\n",
              "      <td>-79.14</td>\n",
              "      <td>-66.15</td>\n",
              "      <td>2.21</td>\n",
              "      <td>1.75</td>\n",
              "      <td>29.46</td>\n",
              "      <td>3218.48</td>\n",
              "      <td>-730</td>\n",
              "      <td>55.53</td>\n",
              "      <td>16650</td>\n",
              "      <td>1.19</td>\n",
              "      <td>NaN</td>\n",
              "      <td>NaN</td>\n",
              "      <td>NaN</td>\n",
              "    </tr>\n",
              "    <tr>\n",
              "      <th>2020/06\\n(IFRS연결)</th>\n",
              "      <td>346</td>\n",
              "      <td>-1038</td>\n",
              "      <td>-1038</td>\n",
              "      <td>-723</td>\n",
              "      <td>-456</td>\n",
              "      <td>-456</td>\n",
              "      <td>0</td>\n",
              "      <td>39178</td>\n",
              "      <td>5900</td>\n",
              "      <td>33277</td>\n",
              "      <td>33277</td>\n",
              "      <td>1</td>\n",
              "      <td>1070</td>\n",
              "      <td>-3070</td>\n",
              "      <td>5414</td>\n",
              "      <td>-1842</td>\n",
              "      <td>82</td>\n",
              "      <td>-3153</td>\n",
              "      <td>639</td>\n",
              "      <td>-299.75</td>\n",
              "      <td>-131.55</td>\n",
              "      <td>-0.59</td>\n",
              "      <td>-0.5</td>\n",
              "      <td>17.73</td>\n",
              "      <td>3173.64</td>\n",
              "      <td>-213</td>\n",
              "      <td>NaN</td>\n",
              "      <td>16414</td>\n",
              "      <td>1.31</td>\n",
              "      <td>NaN</td>\n",
              "      <td>NaN</td>\n",
              "      <td>0</td>\n",
              "    </tr>\n",
              "    <tr>\n",
              "      <th>2020/09\\n(IFRS연결)</th>\n",
              "      <td>766</td>\n",
              "      <td>-649</td>\n",
              "      <td>-649</td>\n",
              "      <td>-552</td>\n",
              "      <td>-409</td>\n",
              "      <td>-409</td>\n",
              "      <td>0</td>\n",
              "      <td>37434</td>\n",
              "      <td>4560</td>\n",
              "      <td>32875</td>\n",
              "      <td>32874</td>\n",
              "      <td>0</td>\n",
              "      <td>1070</td>\n",
              "      <td>-1584</td>\n",
              "      <td>2327</td>\n",
              "      <td>-4</td>\n",
              "      <td>260</td>\n",
              "      <td>-1844</td>\n",
              "      <td>646</td>\n",
              "      <td>-84.68</td>\n",
              "      <td>-53.33</td>\n",
              "      <td>-5.44</td>\n",
              "      <td>-4.8</td>\n",
              "      <td>13.87</td>\n",
              "      <td>3136</td>\n",
              "      <td>-191</td>\n",
              "      <td>NaN</td>\n",
              "      <td>16215</td>\n",
              "      <td>1.33</td>\n",
              "      <td>NaN</td>\n",
              "      <td>NaN</td>\n",
              "      <td>NaN</td>\n",
              "    </tr>\n",
              "    <tr>\n",
              "      <th>2020/12(E)\\n(IFRS연결)</th>\n",
              "      <td>1581</td>\n",
              "      <td>-434</td>\n",
              "      <td>NaN</td>\n",
              "      <td>-331</td>\n",
              "      <td>-465</td>\n",
              "      <td>-314</td>\n",
              "      <td>NaN</td>\n",
              "      <td>38271</td>\n",
              "      <td>5998</td>\n",
              "      <td>32274</td>\n",
              "      <td>32212</td>\n",
              "      <td>NaN</td>\n",
              "      <td>1070</td>\n",
              "      <td>NaN</td>\n",
              "      <td>NaN</td>\n",
              "      <td>NaN</td>\n",
              "      <td>NaN</td>\n",
              "      <td>NaN</td>\n",
              "      <td>NaN</td>\n",
              "      <td>-27.49</td>\n",
              "      <td>-29.42</td>\n",
              "      <td>NaN</td>\n",
              "      <td>NaN</td>\n",
              "      <td>18.58</td>\n",
              "      <td>NaN</td>\n",
              "      <td>-147</td>\n",
              "      <td>NaN</td>\n",
              "      <td>15888</td>\n",
              "      <td>1.46</td>\n",
              "      <td>NaN</td>\n",
              "      <td>NaN</td>\n",
              "      <td>NaN</td>\n",
              "    </tr>\n",
              "    <tr>\n",
              "      <th>2021/03(E)\\n(IFRS연결)</th>\n",
              "      <td>1473</td>\n",
              "      <td>-187</td>\n",
              "      <td>NaN</td>\n",
              "      <td>NaN</td>\n",
              "      <td>NaN</td>\n",
              "      <td>-33</td>\n",
              "      <td>NaN</td>\n",
              "      <td>NaN</td>\n",
              "      <td>NaN</td>\n",
              "      <td>NaN</td>\n",
              "      <td>NaN</td>\n",
              "      <td>NaN</td>\n",
              "      <td>NaN</td>\n",
              "      <td>NaN</td>\n",
              "      <td>NaN</td>\n",
              "      <td>NaN</td>\n",
              "      <td>NaN</td>\n",
              "      <td>NaN</td>\n",
              "      <td>NaN</td>\n",
              "      <td>-12.7</td>\n",
              "      <td>NaN</td>\n",
              "      <td>NaN</td>\n",
              "      <td>NaN</td>\n",
              "      <td>NaN</td>\n",
              "      <td>NaN</td>\n",
              "      <td>-15</td>\n",
              "      <td>NaN</td>\n",
              "      <td>NaN</td>\n",
              "      <td>NaN</td>\n",
              "      <td>NaN</td>\n",
              "      <td>NaN</td>\n",
              "      <td>NaN</td>\n",
              "    </tr>\n",
              "    <tr>\n",
              "      <th>2021/06(E)\\n(IFRS연결)</th>\n",
              "      <td>1746</td>\n",
              "      <td>-65</td>\n",
              "      <td>NaN</td>\n",
              "      <td>NaN</td>\n",
              "      <td>NaN</td>\n",
              "      <td>135</td>\n",
              "      <td>NaN</td>\n",
              "      <td>NaN</td>\n",
              "      <td>NaN</td>\n",
              "      <td>NaN</td>\n",
              "      <td>NaN</td>\n",
              "      <td>NaN</td>\n",
              "      <td>NaN</td>\n",
              "      <td>NaN</td>\n",
              "      <td>NaN</td>\n",
              "      <td>NaN</td>\n",
              "      <td>NaN</td>\n",
              "      <td>NaN</td>\n",
              "      <td>NaN</td>\n",
              "      <td>-3.72</td>\n",
              "      <td>NaN</td>\n",
              "      <td>NaN</td>\n",
              "      <td>NaN</td>\n",
              "      <td>NaN</td>\n",
              "      <td>NaN</td>\n",
              "      <td>63</td>\n",
              "      <td>NaN</td>\n",
              "      <td>NaN</td>\n",
              "      <td>NaN</td>\n",
              "      <td>NaN</td>\n",
              "      <td>NaN</td>\n",
              "      <td>NaN</td>\n",
              "    </tr>\n",
              "  </tbody>\n",
              "</table>\n",
              "</div>"
            ],
            "text/plain": [
              "                        0     1           2   ...        29       30         31\n",
              "주요재무정보                 매출액  영업이익  영업이익(발표기준)  ...  현금DPS(원)  현금배당수익률  현금배당성향(%)\n",
              "2019/09\\n(IFRS연결)     4055  1392        1392  ...         0      NaN          0\n",
              "2019/12\\n(IFRS연결)     3728   641         641  ...       900      NaN     346.75\n",
              "2020/03\\n(IFRS연결)     2360 -1868       -1868  ...       NaN      NaN        NaN\n",
              "2020/06\\n(IFRS연결)      346 -1038       -1038  ...       NaN      NaN          0\n",
              "2020/09\\n(IFRS연결)      766  -649        -649  ...       NaN      NaN        NaN\n",
              "2020/12(E)\\n(IFRS연결)  1581  -434         NaN  ...       NaN      NaN        NaN\n",
              "2021/03(E)\\n(IFRS연결)  1473  -187         NaN  ...       NaN      NaN        NaN\n",
              "2021/06(E)\\n(IFRS연결)  1746   -65         NaN  ...       NaN      NaN        NaN\n",
              "\n",
              "[9 rows x 32 columns]"
            ]
          },
          "metadata": {},
          "execution_count": 14
        }
      ]
    },
    {
      "cell_type": "code",
      "metadata": {
        "colab": {
          "base_uri": "https://localhost:8080/"
        },
        "id": "S_oV7YrgbsZo",
        "outputId": "11119473-5952-41e2-fd90-72c529e1a97a"
      },
      "source": [
        "\n",
        "new_header = df1.iloc[0] # first row 저장\n",
        "df1 = df1[1:] # 데이터들을 first row를 제외한 데이터들로 만듦\n",
        "df1.columns = new_header #저장했던 first row를 header로 지정\n",
        "\n",
        "new_header = df2.iloc[0] \n",
        "df2 = df2[1:] \n",
        "df2.columns = new_header \n",
        "\n",
        "print(df1)\n",
        "print(df2)"
      ],
      "execution_count": null,
      "outputs": [
        {
          "output_type": "stream",
          "name": "stdout",
          "text": [
            "0          매출액   14753.0   15440.0  ...    9980.0  9761.0  9820.0\n",
            "1         영업이익    574.00    776.00  ...     50.00  144.00  265.00\n",
            "2   영업이익(발표기준)    574.00    776.00  ...       NaN     NaN     NaN\n",
            "3     세전계속사업이익    376.00    538.00  ...   -109.00   14.00  172.00\n",
            "4        당기순이익    274.00    380.00  ...   -100.00   71.00  214.00\n",
            "5    당기순이익(지배)    277.00    380.00  ...   -100.00   53.00  123.00\n",
            "6   당기순이익(비지배)     -3.00      0.00  ...       NaN     NaN     NaN\n",
            "7         자산총계  37747.00  35273.00  ...  32388.00     NaN     NaN\n",
            "8         부채총계  28854.00  26077.00  ...  25171.00     NaN     NaN\n",
            "9         자본총계   8893.00   9195.00  ...   7216.00     NaN     NaN\n",
            "10    자본총계(지배)   8889.00   9192.00  ...   7263.00     NaN     NaN\n",
            "11   자본총계(비지배)      4.00      4.00  ...       NaN     NaN     NaN\n",
            "12         자본금   2000.00   2000.00  ...   2000.00     NaN     NaN\n",
            "13    영업활동현금흐름   1652.00   -480.00  ...       NaN     NaN     NaN\n",
            "14    투자활동현금흐름   -284.00   -208.00  ...       NaN     NaN     NaN\n",
            "15    재무활동현금흐름   -900.00   1230.00  ...       NaN     NaN     NaN\n",
            "16       CAPEX    159.00    109.00  ...       NaN     NaN     NaN\n",
            "17         FCF   1493.00   -589.00  ...       NaN     NaN     NaN\n",
            "18      이자발생부채  19035.00  15615.00  ...       NaN     NaN     NaN\n",
            "19       영업이익률      3.89      5.03  ...      0.50    1.47    2.70\n",
            "20        순이익률      1.86      2.46  ...     -1.01    0.73    2.18\n",
            "21      ROE(%)     13.18     20.16  ...       NaN     NaN     NaN\n",
            "22      ROA(%)      3.62      5.81  ...       NaN     NaN     NaN\n",
            "23        부채비율    324.45    283.59  ...    348.79     NaN     NaN\n",
            "24       자본유보율    395.10    411.78  ...       NaN     NaN     NaN\n",
            "25      EPS(원)    692.00    950.00  ...   -251.00  133.00  308.00\n",
            "26      PER(배)     31.19     21.40  ...       NaN     NaN     NaN\n",
            "27      BPS(원)  23484.00  24282.00  ...  19187.00     NaN     NaN\n",
            "28      PBR(배)      3.67      3.74  ...      4.22     NaN     NaN\n",
            "29    현금DPS(원)      0.00    350.00  ...       NaN     NaN     NaN\n",
            "30     현금배당수익률       NaN       NaN  ...       NaN     NaN     NaN\n",
            "31   현금배당성향(%)      0.00     34.94  ...       NaN     NaN     NaN\n",
            "\n",
            "[31 rows x 9 columns]\n"
          ]
        }
      ]
    },
    {
      "cell_type": "markdown",
      "metadata": {
        "id": "156P6ndeKojO"
      },
      "source": [
        "## 2. 데이터 확인\n",
        "\n",
        "- 데이터의 dimension을 확인하세요.\n",
        "- 데이터의 결측치가 어디에 있는지 확인 후 0으로 대체하세요.\n",
        "- 각 데이터 별로 **FCF**의 값을 barplot으로 시각화하세요.\n",
        "  - 0보다 큰 값인 셀 개수의 총합을 `num1`에, 작은 값인 셀 개수의 총합을 `num2`에 저장하세요\n"
      ]
    },
    {
      "cell_type": "code",
      "metadata": {
        "id": "s_ld2YJujRSb",
        "colab": {
          "base_uri": "https://localhost:8080/"
        },
        "outputId": "f90158ef-f1f9-4c19-941a-2458fa9eeb60"
      },
      "source": [
        "\n",
        "# 데이터 dimension 확인\n",
        "df1.shape\n",
        "df2.shape\n",
        "\n",
        "\n",
        "# 데이터 결측치 확인 후 0으로 대체\n",
        "df1.isnull().sum() # 합쳐줌\n",
        "df2.isnull().sum()\n",
        "df1 = df1.fillna(0)\n",
        "df2 = df2.fillna(0)\n",
        "\n",
        "print(df1)\n",
        "print(df2)"
      ],
      "execution_count": null,
      "outputs": [
        {
          "output_type": "stream",
          "name": "stdout",
          "text": [
            "주요재무정보                    매출액   영업이익  영업이익(발표기준)  ...  현금DPS(원)  현금배당수익률  현금배당성향(%)\n",
            "2019/09\\n(IFRS연결)     14753.0  574.0       574.0  ...       0.0        0       0.00\n",
            "2019/12\\n(IFRS연결)     15440.0  776.0       776.0  ...     350.0        0      34.94\n",
            "2020/03\\n(IFRS연결)      9437.0 -668.0      -668.0  ...       0.0        0       0.00\n",
            "2020/06\\n(IFRS연결)      5230.0 -634.0      -634.0  ...       0.0        0       0.00\n",
            "2020/09\\n(IFRS연결)      8795.0 -198.0      -198.0  ...       0.0        0       0.00\n",
            "2020/12(E)\\n(IFRS연결)   9980.0   50.0         0.0  ...       0.0        0       0.00\n",
            "2021/03(E)\\n(IFRS연결)   9761.0  144.0         0.0  ...       0.0        0       0.00\n",
            "2021/06(E)\\n(IFRS연결)   9820.0  265.0         0.0  ...       0.0        0       0.00\n",
            "\n",
            "[8 rows x 32 columns]\n",
            "주요재무정보                   매출액    영업이익  영업이익(발표기준)  ...  현금DPS(원)  현금배당수익률  현금배당성향(%)\n",
            "2019/09\\n(IFRS연결)     4055.0  1392.0      1392.0  ...       0.0        0       0.00\n",
            "2019/12\\n(IFRS연결)     3728.0   641.0       641.0  ...     900.0        0     346.75\n",
            "2020/03\\n(IFRS연결)     2360.0 -1868.0     -1868.0  ...       0.0        0       0.00\n",
            "2020/06\\n(IFRS연결)      346.0 -1038.0     -1038.0  ...       0.0        0       0.00\n",
            "2020/09\\n(IFRS연결)      766.0  -649.0      -649.0  ...       0.0        0       0.00\n",
            "2020/12(E)\\n(IFRS연결)  1581.0  -434.0         0.0  ...       0.0        0       0.00\n",
            "2021/03(E)\\n(IFRS연결)  1473.0  -187.0         0.0  ...       0.0        0       0.00\n",
            "2021/06(E)\\n(IFRS연결)  1746.0   -65.0         0.0  ...       0.0        0       0.00\n",
            "\n",
            "[8 rows x 32 columns]\n"
          ]
        }
      ]
    },
    {
      "cell_type": "code",
      "metadata": {
        "colab": {
          "base_uri": "https://localhost:8080/"
        },
        "id": "KqlO360hM3Jo",
        "outputId": "6db3d372-1708-4949-bfb3-41d379f04db0"
      },
      "source": [
        "# barplot 하면서 폰트가 깨짐 - 폰트 바꾸기\n",
        "\n",
        "!sudo apt-get install -y fonts-nanum\n",
        "!sudo fc-cache -fv\n",
        "!rm ~/.cache/matplotlib -rf"
      ],
      "execution_count": null,
      "outputs": [
        {
          "output_type": "stream",
          "name": "stdout",
          "text": [
            "Reading package lists... Done\n",
            "Building dependency tree       \n",
            "Reading state information... Done\n",
            "fonts-nanum is already the newest version (20170925-1).\n",
            "0 upgraded, 0 newly installed, 0 to remove and 45 not upgraded.\n",
            "/usr/share/fonts: caching, new cache contents: 0 fonts, 1 dirs\n",
            "/usr/share/fonts/truetype: caching, new cache contents: 0 fonts, 3 dirs\n",
            "/usr/share/fonts/truetype/humor-sans: caching, new cache contents: 1 fonts, 0 dirs\n",
            "/usr/share/fonts/truetype/liberation: caching, new cache contents: 16 fonts, 0 dirs\n",
            "/usr/share/fonts/truetype/nanum: caching, new cache contents: 31 fonts, 0 dirs\n",
            "/usr/local/share/fonts: caching, new cache contents: 0 fonts, 0 dirs\n",
            "/root/.local/share/fonts: skipping, no such directory\n",
            "/root/.fonts: skipping, no such directory\n",
            "/var/cache/fontconfig: cleaning cache directory\n",
            "/root/.cache/fontconfig: not cleaning non-existent cache directory\n",
            "/root/.fontconfig: not cleaning non-existent cache directory\n",
            "fc-cache: succeeded\n"
          ]
        }
      ]
    },
    {
      "cell_type": "code",
      "metadata": {
        "colab": {
          "base_uri": "https://localhost:8080/",
          "height": 398
        },
        "id": "ZySfaWrPNIiD",
        "outputId": "06c69fcf-3e3a-49d4-f3c3-76b809f04b21"
      },
      "source": [
        "# 데이터 별로 FCF 값 barplot으로 시각화 \n",
        "\n",
        "import matplotlib.pyplot as plt\n",
        "\n",
        "plt.rc('font', family='NanumBarunGothic')\n",
        "\n",
        "df1['FCF'].plot.bar()\n"
      ],
      "execution_count": null,
      "outputs": [
        {
          "output_type": "execute_result",
          "data": {
            "text/plain": [
              "<matplotlib.axes._subplots.AxesSubplot at 0x7f4ac8de0ad0>"
            ]
          },
          "metadata": {},
          "execution_count": 84
        },
        {
          "output_type": "stream",
          "name": "stderr",
          "text": [
            "/usr/local/lib/python3.7/dist-packages/matplotlib/backends/backend_agg.py:214: RuntimeWarning: Glyph 8722 missing from current font.\n",
            "  font.set_text(s, 0.0, flags=flags)\n",
            "/usr/local/lib/python3.7/dist-packages/matplotlib/backends/backend_agg.py:183: RuntimeWarning: Glyph 8722 missing from current font.\n",
            "  font.set_text(s, 0, flags=flags)\n"
          ]
        },
        {
          "output_type": "display_data",
          "data": {
            "image/png": "[encoded data removed]",
            "text/plain": [
              "<Figure size 432x288 with 1 Axes>"
            ]
          },
          "metadata": {
            "needs_background": "light"
          }
        }
      ]
    },
    {
      "cell_type": "code",
      "metadata": {
        "colab": {
          "base_uri": "https://localhost:8080/",
          "height": 398
        },
        "id": "MT2xnimr_tSN",
        "outputId": "dbd80eea-6c05-4ee1-b644-db01f34cc33d"
      },
      "source": [
        "df2['FCF'].plot.bar()"
      ],
      "execution_count": null,
      "outputs": [
        {
          "output_type": "execute_result",
          "data": {
            "text/plain": [
              "<matplotlib.axes._subplots.AxesSubplot at 0x7f4ac9982890>"
            ]
          },
          "metadata": {},
          "execution_count": 83
        },
        {
          "output_type": "stream",
          "name": "stderr",
          "text": [
            "/usr/local/lib/python3.7/dist-packages/matplotlib/backends/backend_agg.py:214: RuntimeWarning: Glyph 8722 missing from current font.\n",
            "  font.set_text(s, 0.0, flags=flags)\n",
            "/usr/local/lib/python3.7/dist-packages/matplotlib/backends/backend_agg.py:183: RuntimeWarning: Glyph 8722 missing from current font.\n",
            "  font.set_text(s, 0, flags=flags)\n"
          ]
        },
        {
          "output_type": "display_data",
          "data": {
            "image/png": "[encoded data removed]",
            "text/plain": [
              "<Figure size 432x288 with 1 Axes>"
            ]
          },
          "metadata": {
            "needs_background": "light"
          }
        }
      ]
    },
    {
      "cell_type": "code",
      "metadata": {
        "colab": {
          "base_uri": "https://localhost:8080/"
        },
        "id": "EaKnTwDDO8RF",
        "outputId": "6f35f73c-e3ca-495b-8c58-5e6d9b92d80e"
      },
      "source": [
        "# 0보다 큰 값의 셀 수의 총합을 num1에, 작은 값의 셀 수의 총합을 num2에 저장\n",
        "\n",
        "def zero(df):\n",
        "    num1, num2 = 0,0\n",
        "    for i in df['FCF']:\n",
        "        if i>0: num1 += 1\n",
        "        elif i<0: num2 += 1\n",
        "    return num1,num2\n",
        "\n",
        "num1 = zero(df1)[0] + zero(df2)[0]\n",
        "num2 = zero(df1)[1] + zero(df2)[1]\n",
        "print(num1,num2)\n"
      ],
      "execution_count": null,
      "outputs": [
        {
          "output_type": "stream",
          "name": "stdout",
          "text": [
            "4 6\n"
          ]
        }
      ]
    },
    {
      "cell_type": "markdown",
      "metadata": {
        "id": "OGMOBwEBTqKS"
      },
      "source": [
        "## 3. File export\n",
        "\n",
        "- 읽었던 엑셀 파일의 내용을 2개의 csv로 각각 출력하세요. (python export csv)\n",
        "\n",
        "  - 이름은 각각 `df1.csv`, `df2.csv` 입니다.\n"
      ]
    },
    {
      "cell_type": "code",
      "metadata": {
        "id": "xe47NX7qk53H"
      },
      "source": [
        "df1.to_csv('df1.csv',index= False)\n",
        "df2.to_csv('df2.csv',index= False)"
      ],
      "execution_count": null,
      "outputs": []
    },
    {
      "cell_type": "markdown",
      "metadata": {
        "id": "DCZ01w4Ps-jO"
      },
      "source": [
        "## 4. Error Handling\n",
        "\n",
        "- 다음의 에러를 고치세요. 결과값은 6912가 나와야합니다.\n"
      ]
    },
    {
      "cell_type": "code",
      "metadata": {
        "colab": {
          "base_uri": "https://localhost:8080/"
        },
        "id": "NJdISe69ZT7E",
        "outputId": "d1d4dad3-f398-4889-bce4-82e9f40b55a5"
      },
      "source": [
        "a = '1234'\n",
        "b = 5678\n",
        "\n",
        "int(a)+b"
      ],
      "execution_count": null,
      "outputs": [
        {
          "output_type": "execute_result",
          "data": {
            "text/plain": [
              "6912"
            ]
          },
          "metadata": {},
          "execution_count": 6
        }
      ]
    },
    {
      "cell_type": "markdown",
      "metadata": {
        "id": "KROePyMWQc08"
      },
      "source": [
        "## 5. EDA\n",
        "\n",
        "아래의 코드는 palmer penguin 데이터를 불러올 수 있는 코드입니다.\n",
        "\n",
        "```python\n",
        "import seaborn as sns\n",
        "\n",
        "pp = sns.load_dataset('penguins')\n",
        "```\n",
        "\n",
        "이를 참조하여, `pp`의 `species`와 `sex`변수에 대해서 cross-tabulation을 시행하고, 6개의 값들 중 가장 큰 값을 `num3`에, 가장 작은 값을 `num4`에 저장하세요."
      ]
    },
    {
      "cell_type": "code",
      "metadata": {
        "id": "--GRbZag0ZnF"
      },
      "source": [
        "import seaborn as sns\n",
        "import pandas as pd\n",
        "\n",
        "pp = sns.load_dataset('penguins')\n",
        "\n",
        "c_pp = pd.crosstab(pp.species, pp.sex)\n",
        "\n",
        "num3 = 73\n",
        "num4 = 34\n"
      ],
      "execution_count": null,
      "outputs": []
    },
    {
      "cell_type": "markdown",
      "metadata": {
        "id": "axPHh5t5s124"
      },
      "source": [
        "## 🔥 도전과제 "
      ]
    },
    {
      "cell_type": "markdown",
      "metadata": {
        "id": "Obp0rnowSgF8"
      },
      "source": [
        "### penguins 데이터를 계속 사용합니다.\n",
        "\n",
        "이에 대해 아래의 task들을 시행하세요.\n",
        "\n",
        "- 결측치 처리 (제거)\n",
        "\n",
        "- bill_length_mm에 대해서 qqplot 그리기\n",
        "\n",
        "- island에 대해서 다른 4개의 numerical feature 를 boxplot으로 표현하기\n",
        "\n",
        "- 각 numerical feature에 대해서 summary statistics : mean, sd, Quantiles(1Q, 2Q, 3Q, 4Q)를 계산하세요."
      ]
    },
    {
      "cell_type": "code",
      "metadata": {
        "id": "0tVL1EYBTS45",
        "colab": {
          "base_uri": "https://localhost:8080/",
          "height": 419
        },
        "outputId": "ab1f2dbe-51d5-40e6-9766-bc3ab017d7da"
      },
      "source": [
        "# 결측치 제거\n",
        "pp = pp.dropna()\n",
        "pp"
      ],
      "execution_count": null,
      "outputs": [
        {
          "output_type": "execute_result",
          "data": {
            "text/html": [
              "<div>\n",
              "<style scoped>\n",
              "    .dataframe tbody tr th:only-of-type {\n",
              "        vertical-align: middle;\n",
              "    }\n",
              "\n",
              "    .dataframe tbody tr th {\n",
              "        vertical-align: top;\n",
              "    }\n",
              "\n",
              "    .dataframe thead th {\n",
              "        text-align: right;\n",
              "    }\n",
              "</style>\n",
              "<table border=\"1\" class=\"dataframe\">\n",
              "  <thead>\n",
              "    <tr style=\"text-align: right;\">\n",
              "      <th></th>\n",
              "      <th>species</th>\n",
              "      <th>island</th>\n",
              "      <th>bill_length_mm</th>\n",
              "      <th>bill_depth_mm</th>\n",
              "      <th>flipper_length_mm</th>\n",
              "      <th>body_mass_g</th>\n",
              "      <th>sex</th>\n",
              "    </tr>\n",
              "  </thead>\n",
              "  <tbody>\n",
              "    <tr>\n",
              "      <th>0</th>\n",
              "      <td>Adelie</td>\n",
              "      <td>Torgersen</td>\n",
              "      <td>39.1</td>\n",
              "      <td>18.7</td>\n",
              "      <td>181.0</td>\n",
              "      <td>3750.0</td>\n",
              "      <td>Male</td>\n",
              "    </tr>\n",
              "    <tr>\n",
              "      <th>1</th>\n",
              "      <td>Adelie</td>\n",
              "      <td>Torgersen</td>\n",
              "      <td>39.5</td>\n",
              "      <td>17.4</td>\n",
              "      <td>186.0</td>\n",
              "      <td>3800.0</td>\n",
              "      <td>Female</td>\n",
              "    </tr>\n",
              "    <tr>\n",
              "      <th>2</th>\n",
              "      <td>Adelie</td>\n",
              "      <td>Torgersen</td>\n",
              "      <td>40.3</td>\n",
              "      <td>18.0</td>\n",
              "      <td>195.0</td>\n",
              "      <td>3250.0</td>\n",
              "      <td>Female</td>\n",
              "    </tr>\n",
              "    <tr>\n",
              "      <th>4</th>\n",
              "      <td>Adelie</td>\n",
              "      <td>Torgersen</td>\n",
              "      <td>36.7</td>\n",
              "      <td>19.3</td>\n",
              "      <td>193.0</td>\n",
              "      <td>3450.0</td>\n",
              "      <td>Female</td>\n",
              "    </tr>\n",
              "    <tr>\n",
              "      <th>5</th>\n",
              "      <td>Adelie</td>\n",
              "      <td>Torgersen</td>\n",
              "      <td>39.3</td>\n",
              "      <td>20.6</td>\n",
              "      <td>190.0</td>\n",
              "      <td>3650.0</td>\n",
              "      <td>Male</td>\n",
              "    </tr>\n",
              "    <tr>\n",
              "      <th>...</th>\n",
              "      <td>...</td>\n",
              "      <td>...</td>\n",
              "      <td>...</td>\n",
              "      <td>...</td>\n",
              "      <td>...</td>\n",
              "      <td>...</td>\n",
              "      <td>...</td>\n",
              "    </tr>\n",
              "    <tr>\n",
              "      <th>338</th>\n",
              "      <td>Gentoo</td>\n",
              "      <td>Biscoe</td>\n",
              "      <td>47.2</td>\n",
              "      <td>13.7</td>\n",
              "      <td>214.0</td>\n",
              "      <td>4925.0</td>\n",
              "      <td>Female</td>\n",
              "    </tr>\n",
              "    <tr>\n",
              "      <th>340</th>\n",
              "      <td>Gentoo</td>\n",
              "      <td>Biscoe</td>\n",
              "      <td>46.8</td>\n",
              "      <td>14.3</td>\n",
              "      <td>215.0</td>\n",
              "      <td>4850.0</td>\n",
              "      <td>Female</td>\n",
              "    </tr>\n",
              "    <tr>\n",
              "      <th>341</th>\n",
              "      <td>Gentoo</td>\n",
              "      <td>Biscoe</td>\n",
              "      <td>50.4</td>\n",
              "      <td>15.7</td>\n",
              "      <td>222.0</td>\n",
              "      <td>5750.0</td>\n",
              "      <td>Male</td>\n",
              "    </tr>\n",
              "    <tr>\n",
              "      <th>342</th>\n",
              "      <td>Gentoo</td>\n",
              "      <td>Biscoe</td>\n",
              "      <td>45.2</td>\n",
              "      <td>14.8</td>\n",
              "      <td>212.0</td>\n",
              "      <td>5200.0</td>\n",
              "      <td>Female</td>\n",
              "    </tr>\n",
              "    <tr>\n",
              "      <th>343</th>\n",
              "      <td>Gentoo</td>\n",
              "      <td>Biscoe</td>\n",
              "      <td>49.9</td>\n",
              "      <td>16.1</td>\n",
              "      <td>213.0</td>\n",
              "      <td>5400.0</td>\n",
              "      <td>Male</td>\n",
              "    </tr>\n",
              "  </tbody>\n",
              "</table>\n",
              "<p>333 rows × 7 columns</p>\n",
              "</div>"
            ],
            "text/plain": [
              "    species     island  bill_length_mm  ...  flipper_length_mm  body_mass_g     sex\n",
              "0    Adelie  Torgersen            39.1  ...              181.0       3750.0    Male\n",
              "1    Adelie  Torgersen            39.5  ...              186.0       3800.0  Female\n",
              "2    Adelie  Torgersen            40.3  ...              195.0       3250.0  Female\n",
              "4    Adelie  Torgersen            36.7  ...              193.0       3450.0  Female\n",
              "5    Adelie  Torgersen            39.3  ...              190.0       3650.0    Male\n",
              "..      ...        ...             ...  ...                ...          ...     ...\n",
              "338  Gentoo     Biscoe            47.2  ...              214.0       4925.0  Female\n",
              "340  Gentoo     Biscoe            46.8  ...              215.0       4850.0  Female\n",
              "341  Gentoo     Biscoe            50.4  ...              222.0       5750.0    Male\n",
              "342  Gentoo     Biscoe            45.2  ...              212.0       5200.0  Female\n",
              "343  Gentoo     Biscoe            49.9  ...              213.0       5400.0    Male\n",
              "\n",
              "[333 rows x 7 columns]"
            ]
          },
          "metadata": {},
          "execution_count": 125
        }
      ]
    },
    {
      "cell_type": "code",
      "metadata": {
        "colab": {
          "base_uri": "https://localhost:8080/",
          "height": 347
        },
        "id": "cxt6zxnc_97w",
        "outputId": "4114d0df-5eae-4748-e9cb-09df2ced49b0"
      },
      "source": [
        "# bill_length_mm에 대해 qqplot 그리기\n",
        "\n",
        "import statsmodels.api as sm\n",
        "import matplotlib.pyplot as plt\n",
        "\n",
        "fig = sm.qqplot(pp.bill_length_mm)\n"
      ],
      "execution_count": null,
      "outputs": [
        {
          "output_type": "stream",
          "name": "stderr",
          "text": [
            "/usr/local/lib/python3.7/dist-packages/matplotlib/backends/backend_agg.py:214: RuntimeWarning: Glyph 8722 missing from current font.\n",
            "  font.set_text(s, 0.0, flags=flags)\n",
            "/usr/local/lib/python3.7/dist-packages/matplotlib/backends/backend_agg.py:183: RuntimeWarning: Glyph 8722 missing from current font.\n",
            "  font.set_text(s, 0, flags=flags)\n"
          ]
        },
        {
          "output_type": "display_data",
          "data": {
            "image/png": "[encoded data removed]",
            "text/plain": [
              "<Figure size 432x288 with 1 Axes>"
            ]
          },
          "metadata": {
            "needs_background": "light"
          }
        }
      ]
    },
    {
      "cell_type": "code",
      "metadata": {
        "colab": {
          "base_uri": "https://localhost:8080/",
          "height": 462
        },
        "id": "yGqQBL9ECa2a",
        "outputId": "c2b7b1d8-a950-4728-8a55-cb020006f7d2"
      },
      "source": [
        "# island에 대해서 다른 4개의 numerical feature 를 boxplot으로 표현하기\n",
        "\n",
        "box_pp = pp.boxplot(column=['bill_length_mm','bill_depth_mm','flipper_length_mm','body_mass_g'],by='island')\n",
        "\n",
        "\n"
      ],
      "execution_count": null,
      "outputs": [
        {
          "output_type": "stream",
          "name": "stderr",
          "text": [
            "/usr/local/lib/python3.7/dist-packages/numpy/core/_asarray.py:83: VisibleDeprecationWarning: Creating an ndarray from ragged nested sequences (which is a list-or-tuple of lists-or-tuples-or ndarrays with different lengths or shapes) is deprecated. If you meant to do this, you must specify 'dtype=object' when creating the ndarray\n",
            "  return array(a, dtype, copy=False, order=order)\n",
            "/usr/local/lib/python3.7/dist-packages/numpy/core/_asarray.py:83: VisibleDeprecationWarning: Creating an ndarray from ragged nested sequences (which is a list-or-tuple of lists-or-tuples-or ndarrays with different lengths or shapes) is deprecated. If you meant to do this, you must specify 'dtype=object' when creating the ndarray\n",
            "  return array(a, dtype, copy=False, order=order)\n",
            "/usr/local/lib/python3.7/dist-packages/numpy/core/_asarray.py:83: VisibleDeprecationWarning: Creating an ndarray from ragged nested sequences (which is a list-or-tuple of lists-or-tuples-or ndarrays with different lengths or shapes) is deprecated. If you meant to do this, you must specify 'dtype=object' when creating the ndarray\n",
            "  return array(a, dtype, copy=False, order=order)\n",
            "/usr/local/lib/python3.7/dist-packages/numpy/core/_asarray.py:83: VisibleDeprecationWarning: Creating an ndarray from ragged nested sequences (which is a list-or-tuple of lists-or-tuples-or ndarrays with different lengths or shapes) is deprecated. If you meant to do this, you must specify 'dtype=object' when creating the ndarray\n",
            "  return array(a, dtype, copy=False, order=order)\n"
          ]
        },
        {
          "output_type": "display_data",
          "data": {
            "image/png": "[encoded data removed]",
            "text/plain": [
              "<Figure size 432x288 with 4 Axes>"
            ]
          },
          "metadata": {}
        }
      ]
    },
    {
      "cell_type": "code",
      "metadata": {
        "colab": {
          "base_uri": "https://localhost:8080/",
          "height": 297
        },
        "id": "gsN5eBZyV-_2",
        "outputId": "7442bee4-e711-45a4-95ba-735b65b98bb7"
      },
      "source": [
        "# 각 numerical feature에 대해서 summary statistics : mean, sd, Quantiles(1Q, 2Q, 3Q, 4Q)를 계산\n",
        "\n",
        "pp[['bill_length_mm', 'bill_depth_mm', 'flipper_length_mm', 'body_mass_g']].describe()"
      ],
      "execution_count": null,
      "outputs": [
        {
          "output_type": "execute_result",
          "data": {
            "text/html": [
              "<div>\n",
              "<style scoped>\n",
              "    .dataframe tbody tr th:only-of-type {\n",
              "        vertical-align: middle;\n",
              "    }\n",
              "\n",
              "    .dataframe tbody tr th {\n",
              "        vertical-align: top;\n",
              "    }\n",
              "\n",
              "    .dataframe thead th {\n",
              "        text-align: right;\n",
              "    }\n",
              "</style>\n",
              "<table border=\"1\" class=\"dataframe\">\n",
              "  <thead>\n",
              "    <tr style=\"text-align: right;\">\n",
              "      <th></th>\n",
              "      <th>bill_length_mm</th>\n",
              "      <th>bill_depth_mm</th>\n",
              "      <th>flipper_length_mm</th>\n",
              "      <th>body_mass_g</th>\n",
              "    </tr>\n",
              "  </thead>\n",
              "  <tbody>\n",
              "    <tr>\n",
              "      <th>count</th>\n",
              "      <td>333.000000</td>\n",
              "      <td>333.000000</td>\n",
              "      <td>333.000000</td>\n",
              "      <td>333.000000</td>\n",
              "    </tr>\n",
              "    <tr>\n",
              "      <th>mean</th>\n",
              "      <td>43.992793</td>\n",
              "      <td>17.164865</td>\n",
              "      <td>200.966967</td>\n",
              "      <td>4207.057057</td>\n",
              "    </tr>\n",
              "    <tr>\n",
              "      <th>std</th>\n",
              "      <td>5.468668</td>\n",
              "      <td>1.969235</td>\n",
              "      <td>14.015765</td>\n",
              "      <td>805.215802</td>\n",
              "    </tr>\n",
              "    <tr>\n",
              "      <th>min</th>\n",
              "      <td>32.100000</td>\n",
              "      <td>13.100000</td>\n",
              "      <td>172.000000</td>\n",
              "      <td>2700.000000</td>\n",
              "    </tr>\n",
              "    <tr>\n",
              "      <th>25%</th>\n",
              "      <td>39.500000</td>\n",
              "      <td>15.600000</td>\n",
              "      <td>190.000000</td>\n",
              "      <td>3550.000000</td>\n",
              "    </tr>\n",
              "    <tr>\n",
              "      <th>50%</th>\n",
              "      <td>44.500000</td>\n",
              "      <td>17.300000</td>\n",
              "      <td>197.000000</td>\n",
              "      <td>4050.000000</td>\n",
              "    </tr>\n",
              "    <tr>\n",
              "      <th>75%</th>\n",
              "      <td>48.600000</td>\n",
              "      <td>18.700000</td>\n",
              "      <td>213.000000</td>\n",
              "      <td>4775.000000</td>\n",
              "    </tr>\n",
              "    <tr>\n",
              "      <th>max</th>\n",
              "      <td>59.600000</td>\n",
              "      <td>21.500000</td>\n",
              "      <td>231.000000</td>\n",
              "      <td>6300.000000</td>\n",
              "    </tr>\n",
              "  </tbody>\n",
              "</table>\n",
              "</div>"
            ],
            "text/plain": [
              "       bill_length_mm  bill_depth_mm  flipper_length_mm  body_mass_g\n",
              "count      333.000000     333.000000         333.000000   333.000000\n",
              "mean        43.992793      17.164865         200.966967  4207.057057\n",
              "std          5.468668       1.969235          14.015765   805.215802\n",
              "min         32.100000      13.100000         172.000000  2700.000000\n",
              "25%         39.500000      15.600000         190.000000  3550.000000\n",
              "50%         44.500000      17.300000         197.000000  4050.000000\n",
              "75%         48.600000      18.700000         213.000000  4775.000000\n",
              "max         59.600000      21.500000         231.000000  6300.000000"
            ]
          },
          "metadata": {},
          "execution_count": 138
        }
      ]
    }
  ]
}